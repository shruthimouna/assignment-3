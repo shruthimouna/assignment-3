{
 "cells": [
  {
   "cell_type": "markdown",
   "id": "2d2c7eb0",
   "metadata": {},
   "source": [
    "# \n",
    "Write a Python function that accepts a string and calculate the number of upper case letters and lower case letters.\n",
    "\n",
    "\n",
    "\n",
    "﻿Sample String : 'The quick Brow Fox'\n",
    "\n",
    "Expected Output :\n",
    "\n",
    "No. of Upper case characters : 3\n",
    "\n",
    "No. of Lower case Characters : 12"
   ]
  },
  {
   "cell_type": "code",
   "execution_count": 1,
   "id": "5a6079ca",
   "metadata": {},
   "outputs": [
    {
     "name": "stdout",
     "output_type": "stream",
     "text": [
      "No. of Upper case characters: 3\n",
      "No. of Lower case characters: 10\n"
     ]
    }
   ],
   "source": [
    "def count(string):\n",
    "  upper_count = 0\n",
    "  lower_count = 0\n",
    "  \n",
    "  for char in string:\n",
    "    if char.isupper():\n",
    "      upper_count += 1\n",
    "    elif char.islower():\n",
    "      lower_count += 1\n",
    "    else:\n",
    "        pass\n",
    "  print(\"No. of Upper case characters:\", upper_count)\n",
    "  print(\"No. of Lower case characters:\", lower_count)\n",
    "count('Hello Good Mrng!')"
   ]
  },
  {
   "cell_type": "code",
   "execution_count": null,
   "id": "3efda3cd",
   "metadata": {},
   "outputs": [],
   "source": []
  }
 ],
 "metadata": {
  "kernelspec": {
   "display_name": "Python 3 (ipykernel)",
   "language": "python",
   "name": "python3"
  },
  "language_info": {
   "codemirror_mode": {
    "name": "ipython",
    "version": 3
   },
   "file_extension": ".py",
   "mimetype": "text/x-python",
   "name": "python",
   "nbconvert_exporter": "python",
   "pygments_lexer": "ipython3",
   "version": "3.9.13"
  }
 },
 "nbformat": 4,
 "nbformat_minor": 5
}
